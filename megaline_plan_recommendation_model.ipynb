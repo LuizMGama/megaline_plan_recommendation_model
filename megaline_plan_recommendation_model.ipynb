{
 "cells": [
  {
   "cell_type": "markdown",
   "id": "267654aa-e90e-418c-be88-e3e519e4b478",
   "metadata": {},
   "source": [
    "# Projeto Sprint 8"
   ]
  },
  {
   "cell_type": "markdown",
   "id": "5618b838-7117-4eed-9a5f-a6cc64c89cf4",
   "metadata": {},
   "source": [
    "Objetivo: Criar um modelo treinado que possa recomendar Novos Planos para clientes mais antigos da Empresa Megaline.\n",
    "\n",
    "Observações: Tive um problema para carregar o arquivo dos datasets da tripleten. Pelo que eu entendi do erro, o caminho utilizado estava errado ou o arquivo não existia no dataset. A sintaxe estava correta e o caminho foi copiado e colado da descrição do projeto, enão realmente não sei o que estava acontecendo. A solução foi baixar o arquivo e tocar o projeto de um notebook da minha própria máquina. Não sei se era a solução mais simples, mas funcionou. Seguimos assim."
   ]
  },
  {
   "cell_type": "markdown",
   "id": "f5cc9d75-a9dc-421c-b35a-4cdaffb055b1",
   "metadata": {},
   "source": [
    "## 1. Carregamento e Análise de Dados"
   ]
  },
  {
   "cell_type": "markdown",
   "id": "d5898704-f7ad-4fd9-b864-cc0660d6323f",
   "metadata": {},
   "source": [
    "Nesse primeiro passo, vamos carregar os dados, chamar o método info e avaliar as colunas e mais informações. Nosso objetivo aqui é verificar se existem dados ausentes e se todos os tipos de dados estão corretos, para entregarmos uma tabela limpa para o modelo que vamos treinar."
   ]
  },
  {
   "cell_type": "code",
   "execution_count": 160,
   "id": "b22de0a7-1ea5-47cd-8d31-e308386465e2",
   "metadata": {},
   "outputs": [],
   "source": [
    "import pandas as pd\n",
    "from sklearn.model_selection import train_test_split\n",
    "from sklearn.tree import DecisionTreeClassifier\n",
    "from sklearn.ensemble import RandomForestClassifier\n",
    "from sklearn.linear_model import LogisticRegression\n",
    "from sklearn.metrics import accuracy_score, mean_squared_error\n",
    "import matplotlib.pyplot as plt\n",
    "import seaborn as sns\n",
    "from scipy.stats import ttest_ind"
   ]
  },
  {
   "cell_type": "markdown",
   "id": "bdc52a0a-7ff8-442b-a55d-f6357cfb2cbc",
   "metadata": {},
   "source": [
    "Aqui, fizemos a importação do Pandas e das bibliotecas que usaremos para a criação e verificação dos modelos"
   ]
  },
  {
   "cell_type": "markdown",
   "id": "6b421acd-986a-462e-addf-c57a21643d9e",
   "metadata": {},
   "source": [
    "### 1.1 Carregando e Analisando os Dados"
   ]
  },
  {
   "cell_type": "code",
   "execution_count": 101,
   "id": "d74a2236-3bfd-4e16-a63e-01330c6f3ced",
   "metadata": {},
   "outputs": [],
   "source": [
    "df = pd.read_csv('C:/Users/legam/Downloads/users_behavior.csv')"
   ]
  },
  {
   "cell_type": "code",
   "execution_count": 102,
   "id": "5fffad37-882d-4d37-8a47-6fdfb135cbf9",
   "metadata": {},
   "outputs": [
    {
     "name": "stdout",
     "output_type": "stream",
     "text": [
      "<class 'pandas.core.frame.DataFrame'>\n",
      "RangeIndex: 3214 entries, 0 to 3213\n",
      "Data columns (total 5 columns):\n",
      " #   Column    Non-Null Count  Dtype  \n",
      "---  ------    --------------  -----  \n",
      " 0   calls     3214 non-null   float64\n",
      " 1   minutes   3214 non-null   float64\n",
      " 2   messages  3214 non-null   float64\n",
      " 3   mb_used   3214 non-null   float64\n",
      " 4   is_ultra  3214 non-null   int64  \n",
      "dtypes: float64(4), int64(1)\n",
      "memory usage: 125.7 KB\n"
     ]
    }
   ],
   "source": [
    "df.info()"
   ]
  },
  {
   "cell_type": "code",
   "execution_count": 103,
   "id": "a5bc700f-1af0-430f-8394-1d2486989fd9",
   "metadata": {},
   "outputs": [
    {
     "data": {
      "text/html": [
       "<div>\n",
       "<style scoped>\n",
       "    .dataframe tbody tr th:only-of-type {\n",
       "        vertical-align: middle;\n",
       "    }\n",
       "\n",
       "    .dataframe tbody tr th {\n",
       "        vertical-align: top;\n",
       "    }\n",
       "\n",
       "    .dataframe thead th {\n",
       "        text-align: right;\n",
       "    }\n",
       "</style>\n",
       "<table border=\"1\" class=\"dataframe\">\n",
       "  <thead>\n",
       "    <tr style=\"text-align: right;\">\n",
       "      <th></th>\n",
       "      <th>calls</th>\n",
       "      <th>minutes</th>\n",
       "      <th>messages</th>\n",
       "      <th>mb_used</th>\n",
       "      <th>is_ultra</th>\n",
       "    </tr>\n",
       "  </thead>\n",
       "  <tbody>\n",
       "    <tr>\n",
       "      <th>0</th>\n",
       "      <td>40.0</td>\n",
       "      <td>311.90</td>\n",
       "      <td>83.0</td>\n",
       "      <td>19915.42</td>\n",
       "      <td>0</td>\n",
       "    </tr>\n",
       "    <tr>\n",
       "      <th>1</th>\n",
       "      <td>85.0</td>\n",
       "      <td>516.75</td>\n",
       "      <td>56.0</td>\n",
       "      <td>22696.96</td>\n",
       "      <td>0</td>\n",
       "    </tr>\n",
       "    <tr>\n",
       "      <th>2</th>\n",
       "      <td>77.0</td>\n",
       "      <td>467.66</td>\n",
       "      <td>86.0</td>\n",
       "      <td>21060.45</td>\n",
       "      <td>0</td>\n",
       "    </tr>\n",
       "    <tr>\n",
       "      <th>3</th>\n",
       "      <td>106.0</td>\n",
       "      <td>745.53</td>\n",
       "      <td>81.0</td>\n",
       "      <td>8437.39</td>\n",
       "      <td>1</td>\n",
       "    </tr>\n",
       "    <tr>\n",
       "      <th>4</th>\n",
       "      <td>66.0</td>\n",
       "      <td>418.74</td>\n",
       "      <td>1.0</td>\n",
       "      <td>14502.75</td>\n",
       "      <td>0</td>\n",
       "    </tr>\n",
       "  </tbody>\n",
       "</table>\n",
       "</div>"
      ],
      "text/plain": [
       "   calls  minutes  messages   mb_used  is_ultra\n",
       "0   40.0   311.90      83.0  19915.42         0\n",
       "1   85.0   516.75      56.0  22696.96         0\n",
       "2   77.0   467.66      86.0  21060.45         0\n",
       "3  106.0   745.53      81.0   8437.39         1\n",
       "4   66.0   418.74       1.0  14502.75         0"
      ]
     },
     "execution_count": 103,
     "metadata": {},
     "output_type": "execute_result"
    }
   ],
   "source": [
    "df.head()"
   ]
  },
  {
   "cell_type": "markdown",
   "id": "8db4da9c-7657-44dd-aeab-5c205b70946a",
   "metadata": {},
   "source": [
    "Ao analisarmos o info e o head, percebemos que não temod valores faltantes na tabela, o que é ótimo e economiza trabalho. Ainda assim, nos tipos de dados, percebemos que a coluna chamada e a coluna mensagens estão como float. O mais correto seria t~e-las como int, porque, aparentemente, todos os valores terminam com 0 como decimal. Os modelos treinados trabalham bem com os dois tipos, mas manter o tipo int pode economizar memória. Antes de alterar, só vou verificar se todas as linhas realmente terminam com .0 como decimal.\n",
    "\n",
    "Além disso, vamos converter a coluna \"is_ultra\" para booleano. Ela não precisa ser int se só tem função de classificar os planos e se só retorna 0 e 1."
   ]
  },
  {
   "cell_type": "code",
   "execution_count": 105,
   "id": "d253a5e1-3cbe-466a-9bcd-49813dd23ed0",
   "metadata": {},
   "outputs": [
    {
     "name": "stdout",
     "output_type": "stream",
     "text": [
      "True\n",
      "True\n"
     ]
    }
   ],
   "source": [
    "print((df['calls'] % 1 == 0).all())\n",
    "print((df['messages'] % 1 == 0).all()) "
   ]
  },
  {
   "cell_type": "markdown",
   "id": "c5b534f3-32cc-4a37-931d-23a781c9d5e8",
   "metadata": {},
   "source": [
    "O resultado \"True\" para ambas as linhas indica que todos os dados terminam com decimal 0. Podemos converter para o tipo inteiro então."
   ]
  },
  {
   "cell_type": "code",
   "execution_count": 107,
   "id": "8d2c59b3-2149-40c8-8f35-e7f0d9b1057f",
   "metadata": {},
   "outputs": [],
   "source": [
    "df['calls'] = df['calls'].astype(int)\n",
    "df['messages'] = df['calls'].astype(int)\n",
    "df['is_ultra'] = df['is_ultra'].astype(bool)"
   ]
  },
  {
   "cell_type": "code",
   "execution_count": 108,
   "id": "08852a28-e044-407c-b7d3-cc0c3652277c",
   "metadata": {},
   "outputs": [
    {
     "name": "stdout",
     "output_type": "stream",
     "text": [
      "<class 'pandas.core.frame.DataFrame'>\n",
      "RangeIndex: 3214 entries, 0 to 3213\n",
      "Data columns (total 5 columns):\n",
      " #   Column    Non-Null Count  Dtype  \n",
      "---  ------    --------------  -----  \n",
      " 0   calls     3214 non-null   int32  \n",
      " 1   minutes   3214 non-null   float64\n",
      " 2   messages  3214 non-null   int32  \n",
      " 3   mb_used   3214 non-null   float64\n",
      " 4   is_ultra  3214 non-null   bool   \n",
      "dtypes: bool(1), float64(2), int32(2)\n",
      "memory usage: 78.6 KB\n"
     ]
    }
   ],
   "source": [
    "df.info()"
   ]
  },
  {
   "cell_type": "markdown",
   "id": "e697bceb-9824-435e-8380-1cbfae740bd0",
   "metadata": {},
   "source": [
    "Tudo dentro dos conformes por aqui. Agora, vamos chamar um describe e ver se temos alguns insights sobre a tabela."
   ]
  },
  {
   "cell_type": "markdown",
   "id": "7c0dcd76-739a-4386-88dc-471ad470b622",
   "metadata": {},
   "source": [
    "#### 1.1.1 Tirando Algumas Conclusões da Tabela"
   ]
  },
  {
   "cell_type": "code",
   "execution_count": 111,
   "id": "11ed70ce-be1f-44d5-ab25-5e521def9ab4",
   "metadata": {},
   "outputs": [
    {
     "data": {
      "text/html": [
       "<div>\n",
       "<style scoped>\n",
       "    .dataframe tbody tr th:only-of-type {\n",
       "        vertical-align: middle;\n",
       "    }\n",
       "\n",
       "    .dataframe tbody tr th {\n",
       "        vertical-align: top;\n",
       "    }\n",
       "\n",
       "    .dataframe thead th {\n",
       "        text-align: right;\n",
       "    }\n",
       "</style>\n",
       "<table border=\"1\" class=\"dataframe\">\n",
       "  <thead>\n",
       "    <tr style=\"text-align: right;\">\n",
       "      <th></th>\n",
       "      <th>calls</th>\n",
       "      <th>minutes</th>\n",
       "      <th>messages</th>\n",
       "      <th>mb_used</th>\n",
       "    </tr>\n",
       "  </thead>\n",
       "  <tbody>\n",
       "    <tr>\n",
       "      <th>count</th>\n",
       "      <td>3214.000000</td>\n",
       "      <td>3214.000000</td>\n",
       "      <td>3214.000000</td>\n",
       "      <td>3214.000000</td>\n",
       "    </tr>\n",
       "    <tr>\n",
       "      <th>mean</th>\n",
       "      <td>63.038892</td>\n",
       "      <td>438.208787</td>\n",
       "      <td>63.038892</td>\n",
       "      <td>17207.673836</td>\n",
       "    </tr>\n",
       "    <tr>\n",
       "      <th>std</th>\n",
       "      <td>33.236368</td>\n",
       "      <td>234.569872</td>\n",
       "      <td>33.236368</td>\n",
       "      <td>7570.968246</td>\n",
       "    </tr>\n",
       "    <tr>\n",
       "      <th>min</th>\n",
       "      <td>0.000000</td>\n",
       "      <td>0.000000</td>\n",
       "      <td>0.000000</td>\n",
       "      <td>0.000000</td>\n",
       "    </tr>\n",
       "    <tr>\n",
       "      <th>25%</th>\n",
       "      <td>40.000000</td>\n",
       "      <td>274.575000</td>\n",
       "      <td>40.000000</td>\n",
       "      <td>12491.902500</td>\n",
       "    </tr>\n",
       "    <tr>\n",
       "      <th>50%</th>\n",
       "      <td>62.000000</td>\n",
       "      <td>430.600000</td>\n",
       "      <td>62.000000</td>\n",
       "      <td>16943.235000</td>\n",
       "    </tr>\n",
       "    <tr>\n",
       "      <th>75%</th>\n",
       "      <td>82.000000</td>\n",
       "      <td>571.927500</td>\n",
       "      <td>82.000000</td>\n",
       "      <td>21424.700000</td>\n",
       "    </tr>\n",
       "    <tr>\n",
       "      <th>max</th>\n",
       "      <td>244.000000</td>\n",
       "      <td>1632.060000</td>\n",
       "      <td>244.000000</td>\n",
       "      <td>49745.730000</td>\n",
       "    </tr>\n",
       "  </tbody>\n",
       "</table>\n",
       "</div>"
      ],
      "text/plain": [
       "             calls      minutes     messages       mb_used\n",
       "count  3214.000000  3214.000000  3214.000000   3214.000000\n",
       "mean     63.038892   438.208787    63.038892  17207.673836\n",
       "std      33.236368   234.569872    33.236368   7570.968246\n",
       "min       0.000000     0.000000     0.000000      0.000000\n",
       "25%      40.000000   274.575000    40.000000  12491.902500\n",
       "50%      62.000000   430.600000    62.000000  16943.235000\n",
       "75%      82.000000   571.927500    82.000000  21424.700000\n",
       "max     244.000000  1632.060000   244.000000  49745.730000"
      ]
     },
     "execution_count": 111,
     "metadata": {},
     "output_type": "execute_result"
    }
   ],
   "source": [
    "df.describe()"
   ]
  },
  {
   "cell_type": "markdown",
   "id": "666206e4-6c3b-400f-8c51-a698e9b7acb2",
   "metadata": {},
   "source": [
    "##### Plano Ultra vs Plano Smart"
   ]
  },
  {
   "cell_type": "markdown",
   "id": "c798d1e7-266b-4064-975e-a574f1a88ea7",
   "metadata": {},
   "source": [
    "A primeira coisa a fazer é ver quantos clientes estão no plano Ultra e quantos clientes estão no plano Smart. Uma discrepância muito grande pode influenciar os modelos treinados."
   ]
  },
  {
   "cell_type": "code",
   "execution_count": 114,
   "id": "ee580531-58a3-4cb9-8d5e-dc47d929378e",
   "metadata": {},
   "outputs": [
    {
     "data": {
      "image/png": "[encoded data removed]",
      "text/plain": [
       "<Figure size 800x600 with 1 Axes>"
      ]
     },
     "metadata": {},
     "output_type": "display_data"
    }
   ],
   "source": [
    "counts = df['is_ultra'].value_counts()\n",
    "total = counts.sum()\n",
    "\n",
    "percentages = (counts / total) * 100\n",
    "\n",
    "plt.figure(figsize=(8, 6))\n",
    "bars = plt.bar(counts.index, counts.values, color=['skyblue', 'orange'])\n",
    "\n",
    "for bar, percentage in zip(bars, percentages):\n",
    "    plt.text(bar.get_x() + bar.get_width() / 2, bar.get_height(), f'{percentage:.2f}%', \n",
    "             ha='center', va='bottom', fontsize=12)\n",
    "\n",
    "plt.title('Distribuição de Clientes por Plano')\n",
    "plt.xticks(ticks=[0, 1], labels=['Smart (0)', 'Ultra (1)'], rotation=0)\n",
    "plt.xlabel('Plano')\n",
    "plt.ylabel('Número de Clientes')\n",
    "plt.show()"
   ]
  },
  {
   "cell_type": "markdown",
   "id": "e856830b-f15d-43b1-a7f6-9eec611f1fa3",
   "metadata": {},
   "source": [
    "Essa diferença apresentada faz bastante sentido, visto que o plano smart é mais simples, certamente mais barato e, portanto, será mais procurado. A diferença que existe também não me parece ser suficiente para que exploremos mais afundo, temendo grandes impactos nos modelos. Por isso, vale seguirmos em frente."
   ]
  },
  {
   "cell_type": "markdown",
   "id": "3213a72b-c942-4dce-9f81-483683b51d25",
   "metadata": {},
   "source": [
    "##### Correlação"
   ]
  },
  {
   "cell_type": "code",
   "execution_count": 117,
   "id": "88a5dcc8-f14f-433f-b411-ed7f8457411f",
   "metadata": {},
   "outputs": [
    {
     "data": {
      "text/plain": [
       "is_ultra    1.000000\n",
       "calls       0.207122\n",
       "messages    0.207122\n",
       "minutes     0.206955\n",
       "mb_used     0.198568\n",
       "Name: is_ultra, dtype: float64"
      ]
     },
     "execution_count": 117,
     "metadata": {},
     "output_type": "execute_result"
    }
   ],
   "source": [
    "correlacao = df.corr()['is_ultra'].sort_values(ascending=False)\n",
    "\n",
    "correlacao"
   ]
  },
  {
   "cell_type": "markdown",
   "id": "f4cc7d57-4f75-4f4e-bf47-3a585bb34e70",
   "metadata": {},
   "source": [
    "Aqui, percebemos que todas as colunas têm uma correlação positiva com a coluna \"is_ultra\", indicando que todas têm sua influência na decisão de qual plano escolher, mas as magnitudes são baixas em todos os casos. isso nos indica, apenas, que nenhuma das colunas serve como forte preditor de qual plano será escolhido."
   ]
  },
  {
   "cell_type": "markdown",
   "id": "5b13adbd-5fb1-47cf-96c6-b72422196a7e",
   "metadata": {},
   "source": [
    "##### Comparando as Médias Entre os Planos"
   ]
  },
  {
   "cell_type": "code",
   "execution_count": 120,
   "id": "21d83662-ecf4-4a18-961c-20db0faebaec",
   "metadata": {},
   "outputs": [
    {
     "name": "stdout",
     "output_type": "stream",
     "text": [
      "Média de calls - Smart: 58.46, Ultra: 73.39\n",
      "Média de minutes - Smart: 405.94, Ultra: 511.22\n",
      "Média de messages - Smart: 58.46, Ultra: 73.39\n",
      "Média de mb_used - Smart: 16208.47, Ultra: 19468.82\n"
     ]
    }
   ],
   "source": [
    "smart_plan = df[df['is_ultra'] == 0]\n",
    "ultra_plan = df[df['is_ultra'] == 1]\n",
    "\n",
    "variables = ['calls', 'minutes', 'messages', 'mb_used']\n",
    "for var in variables:\n",
    "    smart_mean = smart_plan[var].mean()\n",
    "    ultra_mean = ultra_plan[var].mean()\n",
    "    print(f\"Média de {var} - Smart: {smart_mean:.2f}, Ultra: {ultra_mean:.2f}\")"
   ]
  },
  {
   "cell_type": "code",
   "execution_count": 121,
   "id": "bc182bc5-95c7-46fc-aac7-9d381dd747d8",
   "metadata": {},
   "outputs": [
    {
     "name": "stdout",
     "output_type": "stream",
     "text": [
      "Teste t para calls: p-valor = 1.884480185046945e-22\n",
      "Teste t para minutes: p-valor = 1.3446735422636459e-22\n",
      "Teste t para messages: p-valor = 1.884480185046945e-22\n",
      "Teste t para mb_used: p-valor = 1.397720425700292e-20\n"
     ]
    }
   ],
   "source": [
    "for var in variables:\n",
    "    stat, p = ttest_ind(smart_plan[var], ultra_plan[var], equal_var=False)\n",
    "    print(f\"Teste t para {var}: p-valor = {p:}\")"
   ]
  },
  {
   "cell_type": "markdown",
   "id": "8d1bdc30-232c-42a4-989c-99ce81390aa9",
   "metadata": {},
   "source": [
    "O nosso p-valor ser menor do que 0.05 indica que há uma diferença significativa entre as médias de cada plano. Rejeitamos a hipótese nula de que não há. Essa diferença de médias é bem esperado. Na maioria esmagadora dos casos, só assina o plano ultra quem realmente precisa de mais serviços do que o plano smart oferece. O modelo de regressão logística deve ser o mais impactado por esses resultados, mas essa diferença é muito boa para modelos de árvore de decisão e floresta aleatória, que, de fato, apresentaram resultados maiores de acurácia os treinamentos."
   ]
  },
  {
   "cell_type": "markdown",
   "id": "4f54d927-a4b4-4d42-838a-17f4ca76f295",
   "metadata": {},
   "source": [
    "##### Distribuição dos Dados por plano"
   ]
  },
  {
   "cell_type": "code",
   "execution_count": 167,
   "id": "8d60323a-3d8f-41c1-9c06-ff2137fc33bb",
   "metadata": {
    "scrolled": false
   },
   "outputs": [
    {
     "data": {
      "image/png": "[encoded data removed]",
      "text/plain": [
       "<Figure size 800x600 with 1 Axes>"
      ]
     },
     "metadata": {},
     "output_type": "display_data"
    },
    {
     "data": {
      "image/png": "[encoded data removed]",
      "text/plain": [
       "<Figure size 800x600 with 1 Axes>"
      ]
     },
     "metadata": {},
     "output_type": "display_data"
    },
    {
     "data": {
      "image/png": "[encoded data removed]",
      "text/plain": [
       "<Figure size 800x600 with 1 Axes>"
      ]
     },
     "metadata": {},
     "output_type": "display_data"
    },
    {
     "data": {
      "image/png": "[encoded data removed]",
      "text/plain": [
       "<Figure size 800x600 with 1 Axes>"
      ]
     },
     "metadata": {},
     "output_type": "display_data"
    }
   ],
   "source": [
    "sns.set(style=\"whitegrid\")\n",
    "\n",
    "variables = ['calls', 'minutes', 'messages', 'mb_used']\n",
    "\n",
    "for var in variables:\n",
    "    plt.figure(figsize=(8, 6))\n",
    "    sns.boxplot(x='is_ultra', y=var, data=df, hue='is_ultra', palette='Set2', dodge=False)\n",
    "    plt.title(f'Distribuição de {var} por Plano')\n",
    "    plt.xticks(ticks=[0, 1], labels=['Smart (0)', 'Ultra (1)'])\n",
    "    plt.xlabel('Plano')\n",
    "    plt.ylabel(var)\n",
    "    plt.show()"
   ]
  },
  {
   "cell_type": "markdown",
   "id": "6813b29d-20cd-4db9-892a-17161fd99cfa",
   "metadata": {},
   "source": [
    "Aqui, geramos um boxplot para cada coluna da tabela, buscando mais insights sobre o comportamento geral dos usuários de cada plano e tentando entender como os resultados vão afetar a análise e a predição de cada modelo. Percebemos que, em todos os casos, os números do plano ultra são superiores, o que já é esperado. Também fica claro que os usuários do plano smart têm mais outliers elevados, o que também faz sentido, considerando que, com limites menores, é muito mais fácil extrapolar os números quando susa um plano menor.\n",
    "\n",
    "Todos os planos apresentam alguma sobreposição, sendo que, com exceçao de mb_used, todas elas são consideravelmente significativas. Isso não chega a ser muito problemático, mas dificulta o trabalho dos modelos treinados, porque valores intermediários dificultam a classificação, porque podem estar presentes em ambos os planos. para todos os modelos, mb_used terá mais impacto, porque é a coluna que mais apresenta variação de dados de um planoi para outro."
   ]
  },
  {
   "cell_type": "markdown",
   "id": "8ed84512-b6d3-4526-83c3-fd6c6e998349",
   "metadata": {},
   "source": [
    "## 2. Divisão dos Dados"
   ]
  },
  {
   "cell_type": "markdown",
   "id": "092f8a86-0e2b-41d1-a9b7-eda57b8dbf7f",
   "metadata": {},
   "source": [
    "Agora, seguimos para a parte de divisão dos dados. Vamos deixar 60% do dataframe para treinamento do modelo. Outros 20% serão para validação. Os últimos 20% para testar o desempenho final dos modelos."
   ]
  },
  {
   "cell_type": "code",
   "execution_count": 125,
   "id": "a741272e-cf5c-432b-b6ef-7226bde087e9",
   "metadata": {},
   "outputs": [],
   "source": [
    "features = df.drop(columns=['is_ultra'])\n",
    "target = df['is_ultra']\n",
    "\n",
    "features_train, features_temp, target_train, target_temp = train_test_split(features, target, test_size =0.4, random_state=12345)\n",
    "\n",
    "features_valid, features_test, target_valid, target_test = train_test_split(features_temp, target_temp, test_size=0.5, random_state=12345)"
   ]
  },
  {
   "cell_type": "markdown",
   "id": "5c13b722-a684-4500-aaf4-7128cb409bad",
   "metadata": {},
   "source": [
    "Nessa célula, fizemos a divisão. Antes de seguirmos, vamos só chamar um print e verificar se as divisões ficaram com aqs proporções corretas do dataframe"
   ]
  },
  {
   "cell_type": "code",
   "execution_count": 127,
   "id": "cf53da5b-43cf-432c-a831-00530de59195",
   "metadata": {},
   "outputs": [
    {
     "name": "stdout",
     "output_type": "stream",
     "text": [
      "Tamanho do Treinamento: 1928\n",
      "Tamanho da Validação: 643\n",
      "Tamanho do Teste: 643\n"
     ]
    }
   ],
   "source": [
    "print(f\"Tamanho do Treinamento: {len(features_train)}\")\n",
    "print(f\"Tamanho da Validação: {len(features_valid)}\")\n",
    "print(f\"Tamanho do Teste: {len(features_test)}\")"
   ]
  },
  {
   "cell_type": "markdown",
   "id": "395871a2-facd-4044-9456-13cc47ad6060",
   "metadata": {},
   "source": [
    "Considerando o tamanho de 3214, os valores estão corretos. Nossa divisão funcionou perfeitamente. "
   ]
  },
  {
   "cell_type": "markdown",
   "id": "61f04cb7-885d-4bd5-b950-1625d0dfd55c",
   "metadata": {},
   "source": [
    "## 3. Treinando Nosso Modelos"
   ]
  },
  {
   "cell_type": "markdown",
   "id": "7ff3ebef-874f-4801-918c-2e1d9c899bcc",
   "metadata": {},
   "source": [
    "Até aqui, nas aulas, treinamos modelos de árvore de decisão, floresta aleatória e regressão logística. Vamos criar um modelo de cada tipo e fazer os testes de acurácia e EQM pertinentes em cada um. Assim, saberemos qual deles apresenta o melhor desempenho."
   ]
  },
  {
   "cell_type": "markdown",
   "id": "5cb01a58-b10d-41bd-9258-ef4d3feec50f",
   "metadata": {},
   "source": [
    "### 3.1 Árvore de Decisão"
   ]
  },
  {
   "cell_type": "markdown",
   "id": "cedb610f-6188-42e3-9add-1ccf5e96a0fb",
   "metadata": {},
   "source": [
    "Vamos começar criando um modelo de árvore de decisão. O primeiro passo é criar um range para profundidade da árvore e um valor para o número de amostra por folhas. Assim, teremos os dois hiperparâmetros já verificados. Por fim, testar a acurácia do modelo, considerando os melhores hiperparâmetros."
   ]
  },
  {
   "cell_type": "code",
   "execution_count": 133,
   "id": "a71b73e9-52ff-4bb4-b5f6-5160e7e098b8",
   "metadata": {},
   "outputs": [
    {
     "name": "stdout",
     "output_type": "stream",
     "text": [
      "Melhor profundidade: 6\n",
      "Melhor número mínimo de amostras por folha: 3\n",
      "Acurácia com melhores parâmetros: 0.79\n"
     ]
    }
   ],
   "source": [
    "best_tree_model = None\n",
    "best_tree_accuracy = 0\n",
    "best_depth = 0\n",
    "best_min_samples_leaf = 0\n",
    "\n",
    "for depth in range(1, 11):\n",
    "    for min_samples in range(1, 6):\n",
    "        tree_model = DecisionTreeClassifier(max_depth=depth, min_samples_leaf=min_samples, random_state=12345)\n",
    "        tree_model.fit(features_train, target_train)\n",
    "        predictions_valid = tree_model.predict(features_valid)\n",
    "\n",
    "        accuracy = accuracy_score(target_valid, predictions_valid)\n",
    "\n",
    "        if accuracy > best_tree_accuracy:\n",
    "            best_tree_model = tree_model\n",
    "            best_tree_accuracy = accuracy\n",
    "            best_depth = depth\n",
    "            best_min_samples_leaf = min_samples\n",
    "\n",
    "print(f\"Melhor profundidade: {best_depth}\")\n",
    "print(f\"Melhor número mínimo de amostras por folha: {best_min_samples_leaf}\")\n",
    "print(f\"Acurácia com melhores parâmetros: {best_tree_accuracy:.2f}\")"
   ]
  },
  {
   "cell_type": "markdown",
   "id": "dc80d01e-8f51-45d1-90bd-b9b10c08e3c9",
   "metadata": {},
   "source": [
    "Aqui, o código funcionou perfeitamente. Criamos dois ciclos for para percorrer cada um dos valores de profundidade e quantidade de amostras por folha. A melhor acurácia que encontramos é de 0.79. Testar outros ranges para os hiperparâetros poderia nos levar a resultados melhores, mas isso também não é garantido e modificar demais esses valores pode deixar o processamento do código pesado demais ou nos levar a over/underfit. Como superamos o valor mínimo exigido no projeto, podemos seguir para o treinamento e teste de uma Floresta Aleatória. "
   ]
  },
  {
   "cell_type": "markdown",
   "id": "d5ab7488-2f35-4ce9-9335-0611c9ed2ed3",
   "metadata": {},
   "source": [
    "### 3.2 Floresta Aleatória"
   ]
  },
  {
   "cell_type": "markdown",
   "id": "28f82bc0-70cb-46c9-85f0-35286131af92",
   "metadata": {},
   "source": [
    "Agora, vamos treinar uma floresta aleatória. Vamos verificar os mesmos hiperparâmetrosa de profundidade e número de amostras por folha, mas tambémm vamos adicionar o número de indicadores e determinar o número de árvores na floresta."
   ]
  },
  {
   "cell_type": "code",
   "execution_count": 137,
   "id": "7e84b61c-2eda-47b4-beea-c0a215957edc",
   "metadata": {},
   "outputs": [
    {
     "name": "stdout",
     "output_type": "stream",
     "text": [
      "Melhor número de árvores: 100\n",
      "Melhor profundidade máxima: 10\n",
      "Melhor número mínimo de amostras por folha: 2\n",
      "Acurácia com melhores parâmetros: 0.80\n"
     ]
    }
   ],
   "source": [
    "best_forest_model = None\n",
    "best_forest_accuracy = 0\n",
    "best_n_estimators = 0\n",
    "best_max_depth = 0\n",
    "best_min_samples_leaf = 0\n",
    "\n",
    "for n_estimators in range(50, 201, 50):\n",
    "    for max_depth in range(5, 16, 5):\n",
    "        for min_samples_leaf in range(1, 6):\n",
    "    \n",
    "            forest_model = RandomForestClassifier(\n",
    "                n_estimators=n_estimators,\n",
    "                max_depth=max_depth,\n",
    "                min_samples_leaf=min_samples_leaf,\n",
    "                random_state=12345)\n",
    "            \n",
    "            forest_model.fit(features_train, target_train)\n",
    "            \n",
    "            predictions_valid = forest_model.predict(features_valid)\n",
    "            \n",
    "            accuracy = accuracy_score(target_valid, predictions_valid)\n",
    "            \n",
    "            if accuracy > best_forest_accuracy:\n",
    "                best_forest_model = forest_model\n",
    "                best_forest_accuracy = accuracy\n",
    "                best_n_estimators = n_estimators\n",
    "                best_max_depth = max_depth\n",
    "                best_min_samples_leaf = min_samples_leaf\n",
    "\n",
    "print(f\"Melhor número de árvores: {best_n_estimators}\")\n",
    "print(f\"Melhor profundidade máxima: {best_max_depth}\")\n",
    "print(f\"Melhor número mínimo de amostras por folha: {best_min_samples_leaf}\")\n",
    "print(f\"Acurácia com melhores parâmetros: {best_forest_accuracy:.2f}\")\n"
   ]
  },
  {
   "cell_type": "markdown",
   "id": "5aed8da0-08a1-4c20-a871-1f8d8ea6202d",
   "metadata": {},
   "source": [
    "Aqui, terminamos os cálculos de acurácia para a Floresta de Decisão. Dessa vez, estabelecemos ranges especifícos com intervalos para serem avaliados, porque verificar todos os valores dentro de ranges muito grandes explodiria meu computador. Nessa parte, eu fiz um teste, criando um novo ciclo for que, depois de selecionado o melhor intervalo, verificava, dentro desse intervalo, o melhor valor. Ficou muito pesado e a melhora na acurácia foi de apenas 0.01, saltando de 0.80 para 0.81. Excluí essa parte, porque não julguei que a melhora justificava os novos cálculos. Só essa última célula já demorou o suficiente para carregar. \n",
    "\n",
    "Até aqui, percebenmos que a floresta aloeatória tem a melhor acurácia, mas a dificuldade no processamento já foi considerável. Valeria a pena entender com o cliente qual a capacidade de processamento deles. Se ela for limitada, a árvore de decisão é melhor, apesar da queda mínima em acurácia."
   ]
  },
  {
   "cell_type": "markdown",
   "id": "9e488890-5d41-48a3-9a58-f5983dcb801c",
   "metadata": {},
   "source": [
    "### 3.3 Regressão Logística"
   ]
  },
  {
   "cell_type": "code",
   "execution_count": 188,
   "id": "34bebf37-eaea-42b7-ac51-286a3da2019a",
   "metadata": {},
   "outputs": [
    {
     "name": "stdout",
     "output_type": "stream",
     "text": [
      "Acurácia da Regressão Logística: 0.71\n"
     ]
    }
   ],
   "source": [
    "logistic_model = LogisticRegression(solver='liblinear', random_state=12345, max_iter=1000)\n",
    "\n",
    "logistic_model.fit(features_train, target_train)\n",
    "\n",
    "logistic_predictions = logistic_model.predict(features_valid)\n",
    "\n",
    "logistic_accuracy = accuracy_score(target_valid, logistic_predictions)\n",
    "\n",
    "print(f\"Acurácia da Regressão Logística: {logistic_accuracy:.2f}\")"
   ]
  },
  {
   "cell_type": "markdown",
   "id": "909002aa-3ad6-4a43-ad24-7859847f99bc",
   "metadata": {},
   "source": [
    "A regressão logística apresentou uma acurácia de 0.71. Isso é abaixo do resultado pedido pelo projeto e já é um grande indicativo de que este não é o melhor modelo para essa tarefa. Esses resultados também batem com algumas das análises feitas anteriormente, que destacavam algumas vantagens do Modelo de árvore de decisão e de floresta aleatória para essa tarefa. Agora, nos resta treinar os modelos novamente e fazer predições com os dados de validação, como o \"segundo passo\" dos testes gerais dos modelos. Aqui vamos nós."
   ]
  },
  {
   "cell_type": "markdown",
   "id": "e2e5b1b6-082b-4472-8814-739f2317cc9f",
   "metadata": {},
   "source": [
    "## 4 Fazendo Predições com os Dados de Validação"
   ]
  },
  {
   "cell_type": "markdown",
   "id": "98ccd8be-732e-4295-8d67-39923959d01a",
   "metadata": {},
   "source": [
    "### 4.1 Validando a Árvore de Decisão"
   ]
  },
  {
   "cell_type": "code",
   "execution_count": 181,
   "id": "247bd348-2e5d-478c-b18f-6d19cefb6018",
   "metadata": {},
   "outputs": [
    {
     "name": "stdout",
     "output_type": "stream",
     "text": [
      "Acurácia no conjunto de validação: 0.79\n"
     ]
    }
   ],
   "source": [
    "best_tree_model = DecisionTreeClassifier(max_depth=6, min_samples_leaf=3, random_state=12345)\n",
    "best_tree_model.fit(features_train, target_train)\n",
    "\n",
    "predictions_valid = best_tree_model.predict(features_valid)\n",
    "validation_accuracy = accuracy_score(target_valid, predictions_valid)\n",
    "\n",
    "print(f\"Acurácia no conjunto de validação: {validation_accuracy:.2f}\")\n"
   ]
  },
  {
   "cell_type": "markdown",
   "id": "ef97cfab-e101-4f70-94dc-d93544a3ab53",
   "metadata": {},
   "source": [
    "A árvore de decisão apresentou exatamente a mesma acurácia no treinamento e na validação. Esse é o melhor resultado que poderíamos esperar agora, já que estamos querendo evitar overfitting e underfitting. Até aqui, tudo indica que o modelo passará pelos dados de teste sem problemas. Antes de testar isso, vamos verificar se a acurácia da floresta aleatória e da regressão logística também será mantida."
   ]
  },
  {
   "cell_type": "markdown",
   "id": "d37dbcf2-3893-4ce6-8e18-1bd7555497c9",
   "metadata": {},
   "source": [
    "### 4.2 Validando a Floresta Aleatória"
   ]
  },
  {
   "cell_type": "code",
   "execution_count": 185,
   "id": "2b6f3987-db8d-4a5c-91fc-f6a250416862",
   "metadata": {},
   "outputs": [
    {
     "name": "stdout",
     "output_type": "stream",
     "text": [
      "Acurácia no conjunto de validação: 0.80\n"
     ]
    }
   ],
   "source": [
    "best_forest_model = RandomForestClassifier(\n",
    "    n_estimators=100, \n",
    "    max_depth=10, \n",
    "    min_samples_leaf=2, \n",
    "    random_state=12345\n",
    ")\n",
    "best_forest_model.fit(features_train, target_train)\n",
    "\n",
    "predictions_valid = best_forest_model.predict(features_valid)\n",
    "validation_accuracy = accuracy_score(target_valid, predictions_valid)\n",
    "\n",
    "print(f\"Acurácia no conjunto de validação: {validation_accuracy:.2f}\")"
   ]
  },
  {
   "cell_type": "markdown",
   "id": "29bbed25-cc34-4c15-afed-91f41e002c93",
   "metadata": {},
   "source": [
    "Mias uma vez, o resultado obtido no conjunto de validação é exatamente igual ao obtido no treinamento. Isso é exatamente o que queremos. Seguindo esse padrão, o melhor modelo para a empresa Megaline será o de Floresta Aleatória. Mas antes de cravar qualquer resultado, vamos seguir com a validação."
   ]
  },
  {
   "cell_type": "markdown",
   "id": "38f37de9-035d-4c36-854e-ffc0819034c6",
   "metadata": {},
   "source": [
    "### 4.3 Validação da Regressão Logística"
   ]
  },
  {
   "cell_type": "code",
   "execution_count": 194,
   "id": "4cc73647-4840-4d1c-bc68-2d9bc090707b",
   "metadata": {},
   "outputs": [
    {
     "name": "stdout",
     "output_type": "stream",
     "text": [
      "Acurácia no conjunto de validação: 0.71\n"
     ]
    }
   ],
   "source": [
    "logistic_model = LogisticRegression(solver='liblinear', random_state=12345, max_iter=1000)\n",
    "logistic_model.fit(features_train, target_train)\n",
    "\n",
    "logistic_predictions_valid = logistic_model.predict(features_valid)\n",
    "validation_accuracy = accuracy_score(target_valid, logistic_predictions_valid)\n",
    "\n",
    "print(f\"Acurácia no conjunto de validação: {validation_accuracy:.2f}\")"
   ]
  },
  {
   "cell_type": "markdown",
   "id": "c9500e56-2426-4bd2-ac58-75d901067660",
   "metadata": {},
   "source": [
    "Mais uma vez, o resultado foi o mesmo (apesar de que para a regressão logísticva ficou abaixo dos 0.75) Tudo indica que esse modelo será descartado."
   ]
  },
  {
   "cell_type": "markdown",
   "id": "b47b52ac-5191-4fff-adb9-0c7738cd4914",
   "metadata": {},
   "source": [
    "## 5 Verificando os Modelos no Conjunto de Dados de Teste"
   ]
  },
  {
   "cell_type": "markdown",
   "id": "490ff808-5c4b-4ad2-8df4-d72b04345a35",
   "metadata": {},
   "source": [
    "### 5.1 Árvore de Decisão"
   ]
  },
  {
   "cell_type": "code",
   "execution_count": 202,
   "id": "84725f7f-10bd-454b-928b-3c8e1b05ae98",
   "metadata": {},
   "outputs": [
    {
     "name": "stdout",
     "output_type": "stream",
     "text": [
      "Acurácia no conjunto de teste (Árvore de Decisão): 0.77\n"
     ]
    }
   ],
   "source": [
    "final_tree_model = DecisionTreeClassifier(max_depth=6, min_samples_leaf=3, random_state=12345)\n",
    "final_tree_model.fit(features_train, target_train)\n",
    "\n",
    "# Avaliando no conjunto de teste\n",
    "predictions_test = final_tree_model.predict(features_test)\n",
    "test_accuracy = accuracy_score(target_test, predictions_test)\n",
    "\n",
    "# Exibindo o resultado\n",
    "print(f\"Acurácia no conjunto de teste (Árvore de Decisão): {test_accuracy:.2f}\")"
   ]
  },
  {
   "cell_type": "markdown",
   "id": "9e813db9-66dd-4421-b207-47f5db9eee77",
   "metadata": {},
   "source": [
    "Aqui, apresentamos uma leve queda de acurácia, mas 0.02, nesse cenário não é uma queda significativa o suficiente e está acima do valor mínimo pedido pelo projeto. Considerando o cenário geral, podemos seguir em frente, porque atendemos aos requisitos."
   ]
  },
  {
   "cell_type": "markdown",
   "id": "3f7f9270-f9ee-403c-b746-1d38e7bbd482",
   "metadata": {},
   "source": [
    "### 5.2 Floresta Aleatória"
   ]
  },
  {
   "cell_type": "code",
   "execution_count": 206,
   "id": "0078cddb-0144-473a-b8b5-a98c0f09600a",
   "metadata": {},
   "outputs": [
    {
     "name": "stdout",
     "output_type": "stream",
     "text": [
      "Acurácia no conjunto de teste (Floresta Aleatória): 0.79\n"
     ]
    }
   ],
   "source": [
    "final_forest_model = RandomForestClassifier(\n",
    "    n_estimators=100, \n",
    "    max_depth=10, \n",
    "    min_samples_leaf=2, \n",
    "    random_state=12345)\n",
    "final_forest_model.fit(features_train, target_train)\n",
    "\n",
    "forest_predictions_test = final_forest_model.predict(features_test)\n",
    "forest_test_accuracy = accuracy_score(target_test, forest_predictions_test)\n",
    "\n",
    "print(f\"Acurácia no conjunto de teste (Floresta Aleatória): {forest_test_accuracy:.2f}\")"
   ]
  },
  {
   "cell_type": "markdown",
   "id": "06e68126-cd1a-4847-9250-67c2e59eaa25",
   "metadata": {},
   "source": [
    "Neste teste, a Floresta Aleatória também apresentou uma pequena queda, dessa vez, ainda menor, e registrou uma acurácia de 0.79. Mais uma vez, a queda não é significativa e mantém o modelo dentro dos requisitos. Tudo indica que este será nosso modelo vencedor! "
   ]
  },
  {
   "cell_type": "markdown",
   "id": "95e98e56-fb33-498d-ad14-f5b3a7d4b9b2",
   "metadata": {},
   "source": [
    "### 5.3 Regressão Logística"
   ]
  },
  {
   "cell_type": "code",
   "execution_count": 210,
   "id": "e3fa4d5d-94da-4487-9570-67013d8b0837",
   "metadata": {
    "scrolled": true
   },
   "outputs": [
    {
     "name": "stdout",
     "output_type": "stream",
     "text": [
      "Acurácia no conjunto de teste (Regressão Logística): 0.68\n"
     ]
    }
   ],
   "source": [
    "final_logistic_model = LogisticRegression(solver='liblinear', random_state=12345, max_iter=1000)\n",
    "final_logistic_model.fit(features_train, target_train)\n",
    "\n",
    "logistic_predictions_test = final_logistic_model.predict(features_test)\n",
    "logistic_test_accuracy = accuracy_score(target_test, logistic_predictions_test)\n",
    "\n",
    "print(f\"Acurácia no conjunto de teste (Regressão Logística): {logistic_test_accuracy:.2f}\")"
   ]
  },
  {
   "cell_type": "markdown",
   "id": "ad052417-2814-4716-88d9-9e566e3cba9e",
   "metadata": {},
   "source": [
    "O nosso pior modelo foi o que apresentou a maior queda. Como esperado, vamos descartar essa regressão, que obteve valores fracos e distantes dos outros dois concorrentes"
   ]
  },
  {
   "cell_type": "markdown",
   "id": "382f1c33-80fb-478c-9cc8-5d265fb01bee",
   "metadata": {},
   "source": [
    "## Conclusão"
   ]
  },
  {
   "cell_type": "markdown",
   "id": "1fc8f689-7a0d-47be-b68b-d3af658a3aba",
   "metadata": {},
   "source": [
    "Chegamos ao final de mais um projeto! Nosso modelo vencedor é o Modelo de Floresta Aleatória, que passou por todos os testes com valores acima dos exigidos e finalizou o trabalho com acurácia de 0.79! Nosso segundo melhor foi a Árvore de Decisão, que terminou com 0.77. Já a regressão logística se mostrou ineficaz e nem atingiu o valor mínimo pedido pelo projeto. O resultado final ficou em 0.68. \n",
    "\n",
    "Nesse projeto, trabalhei com os principais parâmetros apresentados nas lições da TripleTen. Analisando a tarefa proposta, entendi que esse se tratava de um modelo de classificação, por isso a acurácia foi o valor determinante para o resultado. Não calculei o MSE, porque entendo que essa métrica só é realmente efetiva em modelos de regressão. \n",
    "\n",
    "No momento de análise dos dados, tentei guiar o projeto de forma a criar gráficos e representações visuais que pudessem ser interessantes e que eu entendia que teriam impacto no trabalho dos modelos. Também busquei treinar o teste de hipótese, mesmo que ela parecesse óbvia. De qualquer forma, como os resultados apresentados pelos modelos atingiam os valores esperados, não fiz nenhuma alteração no conjunto de dados. As melhores práticas nesse sentido não foram trabalhadas pela Tripleten e tais alterações, mais uma vez, não se mostraram necessárias."
   ]
  }
 ],
 "metadata": {
  "kernelspec": {
   "display_name": "Python 3 (ipykernel)",
   "language": "python",
   "name": "python3"
  },
  "language_info": {
   "codemirror_mode": {
    "name": "ipython",
    "version": 3
   },
   "file_extension": ".py",
   "mimetype": "text/x-python",
   "name": "python",
   "nbconvert_exporter": "python",
   "pygments_lexer": "ipython3",
   "version": "3.9.19"
  },
  "toc": {
   "base_numbering": 1,
   "nav_menu": {},
   "number_sections": true,
   "sideBar": true,
   "skip_h1_title": true,
   "title_cell": "Table of Contents",
   "title_sidebar": "Contents",
   "toc_cell": false,
   "toc_position": {},
   "toc_section_display": true,
   "toc_window_display": false
  }
 },
 "nbformat": 4,
 "nbformat_minor": 5
}
